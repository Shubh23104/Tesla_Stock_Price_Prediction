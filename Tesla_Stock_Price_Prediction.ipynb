{
  "nbformat": 4,
  "nbformat_minor": 0,
  "metadata": {
    "colab": {
      "provenance": [],
      "authorship_tag": "ABX9TyPgSrP0q1WRNcwNwK6U304P",
      "include_colab_link": true
    },
    "kernelspec": {
      "name": "python3",
      "display_name": "Python 3"
    },
    "language_info": {
      "name": "python"
    }
  },
  "cells": [
    {
      "cell_type": "markdown",
      "metadata": {
        "id": "view-in-github",
        "colab_type": "text"
      },
      "source": [
        "<a href=\"https://colab.research.google.com/github/Shubh23104/Tesla_Stock_Price_Prediction/blob/main/Tesla_Stock_Price_Prediction.ipynb\" target=\"_parent\"><img src=\"https://colab.research.google.com/assets/colab-badge.svg\" alt=\"Open In Colab\"/></a>"
      ]
    },
    {
      "cell_type": "code",
      "execution_count": 25,
      "metadata": {
        "id": "pmMm05MgOUAO"
      },
      "outputs": [],
      "source": [
        "import pandas as pd\n",
        "import numpy as np\n",
        "from sklearn import metrics\n",
        "import seaborn as sns\n",
        "import matplotlib.pyplot as plt"
      ]
    },
    {
      "cell_type": "code",
      "source": [
        "df = pd.read_csv('TSLA.csv')\n",
        "df.head()"
      ],
      "metadata": {
        "colab": {
          "base_uri": "https://localhost:8080/",
          "height": 206
        },
        "id": "zrdqEpBaOZH1",
        "outputId": "4f9dce83-fd63-49f8-8feb-72401593aa49"
      },
      "execution_count": 26,
      "outputs": [
        {
          "output_type": "execute_result",
          "data": {
            "text/plain": [
              "         Date      Open      High       Low     Close  Adj Close    Volume\n",
              "0  2013-01-02  2.333333  2.363333  2.314000  2.357333   2.357333  17922000\n",
              "1  2013-01-03  2.345333  2.363333  2.316667  2.318000   2.318000  11130000\n",
              "2  2013-01-04  2.320000  2.320000  2.261333  2.293333   2.293333  10110000\n",
              "3  2013-01-07  2.320000  2.320000  2.260000  2.289333   2.289333   6630000\n",
              "4  2013-01-08  2.300000  2.300000  2.207333  2.245333   2.245333  19260000"
            ],
            "text/html": [
              "\n",
              "  <div id=\"df-bc755fcd-76a1-4156-855a-fcf6c73e1e8f\" class=\"colab-df-container\">\n",
              "    <div>\n",
              "<style scoped>\n",
              "    .dataframe tbody tr th:only-of-type {\n",
              "        vertical-align: middle;\n",
              "    }\n",
              "\n",
              "    .dataframe tbody tr th {\n",
              "        vertical-align: top;\n",
              "    }\n",
              "\n",
              "    .dataframe thead th {\n",
              "        text-align: right;\n",
              "    }\n",
              "</style>\n",
              "<table border=\"1\" class=\"dataframe\">\n",
              "  <thead>\n",
              "    <tr style=\"text-align: right;\">\n",
              "      <th></th>\n",
              "      <th>Date</th>\n",
              "      <th>Open</th>\n",
              "      <th>High</th>\n",
              "      <th>Low</th>\n",
              "      <th>Close</th>\n",
              "      <th>Adj Close</th>\n",
              "      <th>Volume</th>\n",
              "    </tr>\n",
              "  </thead>\n",
              "  <tbody>\n",
              "    <tr>\n",
              "      <th>0</th>\n",
              "      <td>2013-01-02</td>\n",
              "      <td>2.333333</td>\n",
              "      <td>2.363333</td>\n",
              "      <td>2.314000</td>\n",
              "      <td>2.357333</td>\n",
              "      <td>2.357333</td>\n",
              "      <td>17922000</td>\n",
              "    </tr>\n",
              "    <tr>\n",
              "      <th>1</th>\n",
              "      <td>2013-01-03</td>\n",
              "      <td>2.345333</td>\n",
              "      <td>2.363333</td>\n",
              "      <td>2.316667</td>\n",
              "      <td>2.318000</td>\n",
              "      <td>2.318000</td>\n",
              "      <td>11130000</td>\n",
              "    </tr>\n",
              "    <tr>\n",
              "      <th>2</th>\n",
              "      <td>2013-01-04</td>\n",
              "      <td>2.320000</td>\n",
              "      <td>2.320000</td>\n",
              "      <td>2.261333</td>\n",
              "      <td>2.293333</td>\n",
              "      <td>2.293333</td>\n",
              "      <td>10110000</td>\n",
              "    </tr>\n",
              "    <tr>\n",
              "      <th>3</th>\n",
              "      <td>2013-01-07</td>\n",
              "      <td>2.320000</td>\n",
              "      <td>2.320000</td>\n",
              "      <td>2.260000</td>\n",
              "      <td>2.289333</td>\n",
              "      <td>2.289333</td>\n",
              "      <td>6630000</td>\n",
              "    </tr>\n",
              "    <tr>\n",
              "      <th>4</th>\n",
              "      <td>2013-01-08</td>\n",
              "      <td>2.300000</td>\n",
              "      <td>2.300000</td>\n",
              "      <td>2.207333</td>\n",
              "      <td>2.245333</td>\n",
              "      <td>2.245333</td>\n",
              "      <td>19260000</td>\n",
              "    </tr>\n",
              "  </tbody>\n",
              "</table>\n",
              "</div>\n",
              "    <div class=\"colab-df-buttons\">\n",
              "\n",
              "  <div class=\"colab-df-container\">\n",
              "    <button class=\"colab-df-convert\" onclick=\"convertToInteractive('df-bc755fcd-76a1-4156-855a-fcf6c73e1e8f')\"\n",
              "            title=\"Convert this dataframe to an interactive table.\"\n",
              "            style=\"display:none;\">\n",
              "\n",
              "  <svg xmlns=\"http://www.w3.org/2000/svg\" height=\"24px\" viewBox=\"0 -960 960 960\">\n",
              "    <path d=\"M120-120v-720h720v720H120Zm60-500h600v-160H180v160Zm220 220h160v-160H400v160Zm0 220h160v-160H400v160ZM180-400h160v-160H180v160Zm440 0h160v-160H620v160ZM180-180h160v-160H180v160Zm440 0h160v-160H620v160Z\"/>\n",
              "  </svg>\n",
              "    </button>\n",
              "\n",
              "  <style>\n",
              "    .colab-df-container {\n",
              "      display:flex;\n",
              "      gap: 12px;\n",
              "    }\n",
              "\n",
              "    .colab-df-convert {\n",
              "      background-color: #E8F0FE;\n",
              "      border: none;\n",
              "      border-radius: 50%;\n",
              "      cursor: pointer;\n",
              "      display: none;\n",
              "      fill: #1967D2;\n",
              "      height: 32px;\n",
              "      padding: 0 0 0 0;\n",
              "      width: 32px;\n",
              "    }\n",
              "\n",
              "    .colab-df-convert:hover {\n",
              "      background-color: #E2EBFA;\n",
              "      box-shadow: 0px 1px 2px rgba(60, 64, 67, 0.3), 0px 1px 3px 1px rgba(60, 64, 67, 0.15);\n",
              "      fill: #174EA6;\n",
              "    }\n",
              "\n",
              "    .colab-df-buttons div {\n",
              "      margin-bottom: 4px;\n",
              "    }\n",
              "\n",
              "    [theme=dark] .colab-df-convert {\n",
              "      background-color: #3B4455;\n",
              "      fill: #D2E3FC;\n",
              "    }\n",
              "\n",
              "    [theme=dark] .colab-df-convert:hover {\n",
              "      background-color: #434B5C;\n",
              "      box-shadow: 0px 1px 3px 1px rgba(0, 0, 0, 0.15);\n",
              "      filter: drop-shadow(0px 1px 2px rgba(0, 0, 0, 0.3));\n",
              "      fill: #FFFFFF;\n",
              "    }\n",
              "  </style>\n",
              "\n",
              "    <script>\n",
              "      const buttonEl =\n",
              "        document.querySelector('#df-bc755fcd-76a1-4156-855a-fcf6c73e1e8f button.colab-df-convert');\n",
              "      buttonEl.style.display =\n",
              "        google.colab.kernel.accessAllowed ? 'block' : 'none';\n",
              "\n",
              "      async function convertToInteractive(key) {\n",
              "        const element = document.querySelector('#df-bc755fcd-76a1-4156-855a-fcf6c73e1e8f');\n",
              "        const dataTable =\n",
              "          await google.colab.kernel.invokeFunction('convertToInteractive',\n",
              "                                                    [key], {});\n",
              "        if (!dataTable) return;\n",
              "\n",
              "        const docLinkHtml = 'Like what you see? Visit the ' +\n",
              "          '<a target=\"_blank\" href=https://colab.research.google.com/notebooks/data_table.ipynb>data table notebook</a>'\n",
              "          + ' to learn more about interactive tables.';\n",
              "        element.innerHTML = '';\n",
              "        dataTable['output_type'] = 'display_data';\n",
              "        await google.colab.output.renderOutput(dataTable, element);\n",
              "        const docLink = document.createElement('div');\n",
              "        docLink.innerHTML = docLinkHtml;\n",
              "        element.appendChild(docLink);\n",
              "      }\n",
              "    </script>\n",
              "  </div>\n",
              "\n",
              "\n",
              "<div id=\"df-ae95797d-81b6-4a3d-86e9-c56b363723a2\">\n",
              "  <button class=\"colab-df-quickchart\" onclick=\"quickchart('df-ae95797d-81b6-4a3d-86e9-c56b363723a2')\"\n",
              "            title=\"Suggest charts\"\n",
              "            style=\"display:none;\">\n",
              "\n",
              "<svg xmlns=\"http://www.w3.org/2000/svg\" height=\"24px\"viewBox=\"0 0 24 24\"\n",
              "     width=\"24px\">\n",
              "    <g>\n",
              "        <path d=\"M19 3H5c-1.1 0-2 .9-2 2v14c0 1.1.9 2 2 2h14c1.1 0 2-.9 2-2V5c0-1.1-.9-2-2-2zM9 17H7v-7h2v7zm4 0h-2V7h2v10zm4 0h-2v-4h2v4z\"/>\n",
              "    </g>\n",
              "</svg>\n",
              "  </button>\n",
              "\n",
              "<style>\n",
              "  .colab-df-quickchart {\n",
              "      --bg-color: #E8F0FE;\n",
              "      --fill-color: #1967D2;\n",
              "      --hover-bg-color: #E2EBFA;\n",
              "      --hover-fill-color: #174EA6;\n",
              "      --disabled-fill-color: #AAA;\n",
              "      --disabled-bg-color: #DDD;\n",
              "  }\n",
              "\n",
              "  [theme=dark] .colab-df-quickchart {\n",
              "      --bg-color: #3B4455;\n",
              "      --fill-color: #D2E3FC;\n",
              "      --hover-bg-color: #434B5C;\n",
              "      --hover-fill-color: #FFFFFF;\n",
              "      --disabled-bg-color: #3B4455;\n",
              "      --disabled-fill-color: #666;\n",
              "  }\n",
              "\n",
              "  .colab-df-quickchart {\n",
              "    background-color: var(--bg-color);\n",
              "    border: none;\n",
              "    border-radius: 50%;\n",
              "    cursor: pointer;\n",
              "    display: none;\n",
              "    fill: var(--fill-color);\n",
              "    height: 32px;\n",
              "    padding: 0;\n",
              "    width: 32px;\n",
              "  }\n",
              "\n",
              "  .colab-df-quickchart:hover {\n",
              "    background-color: var(--hover-bg-color);\n",
              "    box-shadow: 0 1px 2px rgba(60, 64, 67, 0.3), 0 1px 3px 1px rgba(60, 64, 67, 0.15);\n",
              "    fill: var(--button-hover-fill-color);\n",
              "  }\n",
              "\n",
              "  .colab-df-quickchart-complete:disabled,\n",
              "  .colab-df-quickchart-complete:disabled:hover {\n",
              "    background-color: var(--disabled-bg-color);\n",
              "    fill: var(--disabled-fill-color);\n",
              "    box-shadow: none;\n",
              "  }\n",
              "\n",
              "  .colab-df-spinner {\n",
              "    border: 2px solid var(--fill-color);\n",
              "    border-color: transparent;\n",
              "    border-bottom-color: var(--fill-color);\n",
              "    animation:\n",
              "      spin 1s steps(1) infinite;\n",
              "  }\n",
              "\n",
              "  @keyframes spin {\n",
              "    0% {\n",
              "      border-color: transparent;\n",
              "      border-bottom-color: var(--fill-color);\n",
              "      border-left-color: var(--fill-color);\n",
              "    }\n",
              "    20% {\n",
              "      border-color: transparent;\n",
              "      border-left-color: var(--fill-color);\n",
              "      border-top-color: var(--fill-color);\n",
              "    }\n",
              "    30% {\n",
              "      border-color: transparent;\n",
              "      border-left-color: var(--fill-color);\n",
              "      border-top-color: var(--fill-color);\n",
              "      border-right-color: var(--fill-color);\n",
              "    }\n",
              "    40% {\n",
              "      border-color: transparent;\n",
              "      border-right-color: var(--fill-color);\n",
              "      border-top-color: var(--fill-color);\n",
              "    }\n",
              "    60% {\n",
              "      border-color: transparent;\n",
              "      border-right-color: var(--fill-color);\n",
              "    }\n",
              "    80% {\n",
              "      border-color: transparent;\n",
              "      border-right-color: var(--fill-color);\n",
              "      border-bottom-color: var(--fill-color);\n",
              "    }\n",
              "    90% {\n",
              "      border-color: transparent;\n",
              "      border-bottom-color: var(--fill-color);\n",
              "    }\n",
              "  }\n",
              "</style>\n",
              "\n",
              "  <script>\n",
              "    async function quickchart(key) {\n",
              "      const quickchartButtonEl =\n",
              "        document.querySelector('#' + key + ' button');\n",
              "      quickchartButtonEl.disabled = true;  // To prevent multiple clicks.\n",
              "      quickchartButtonEl.classList.add('colab-df-spinner');\n",
              "      try {\n",
              "        const charts = await google.colab.kernel.invokeFunction(\n",
              "            'suggestCharts', [key], {});\n",
              "      } catch (error) {\n",
              "        console.error('Error during call to suggestCharts:', error);\n",
              "      }\n",
              "      quickchartButtonEl.classList.remove('colab-df-spinner');\n",
              "      quickchartButtonEl.classList.add('colab-df-quickchart-complete');\n",
              "    }\n",
              "    (() => {\n",
              "      let quickchartButtonEl =\n",
              "        document.querySelector('#df-ae95797d-81b6-4a3d-86e9-c56b363723a2 button');\n",
              "      quickchartButtonEl.style.display =\n",
              "        google.colab.kernel.accessAllowed ? 'block' : 'none';\n",
              "    })();\n",
              "  </script>\n",
              "</div>\n",
              "\n",
              "    </div>\n",
              "  </div>\n"
            ],
            "application/vnd.google.colaboratory.intrinsic+json": {
              "type": "dataframe",
              "variable_name": "df",
              "summary": "{\n  \"name\": \"df\",\n  \"rows\": 2518,\n  \"fields\": [\n    {\n      \"column\": \"Date\",\n      \"properties\": {\n        \"dtype\": \"object\",\n        \"num_unique_values\": 2518,\n        \"samples\": [\n          \"2021-09-22\",\n          \"2014-08-19\",\n          \"2018-07-10\"\n        ],\n        \"semantic_type\": \"\",\n        \"description\": \"\"\n      }\n    },\n    {\n      \"column\": \"Open\",\n      \"properties\": {\n        \"dtype\": \"number\",\n        \"std\": 102.11508609026467,\n        \"min\": 2.205333,\n        \"max\": 411.470001,\n        \"num_unique_values\": 2386,\n        \"samples\": [\n          22.516666,\n          13.396667,\n          22.790667\n        ],\n        \"semantic_type\": \"\",\n        \"description\": \"\"\n      }\n    },\n    {\n      \"column\": \"High\",\n      \"properties\": {\n        \"dtype\": \"number\",\n        \"std\": 104.46498325060843,\n        \"min\": 2.225333,\n        \"max\": 414.496674,\n        \"num_unique_values\": 2365,\n        \"samples\": [\n          22.015333,\n          35.855999,\n          24.182667\n        ],\n        \"semantic_type\": \"\",\n        \"description\": \"\"\n      }\n    },\n    {\n      \"column\": \"Low\",\n      \"properties\": {\n        \"dtype\": \"number\",\n        \"std\": 99.45243792245437,\n        \"min\": 2.140667,\n        \"max\": 405.666656,\n        \"num_unique_values\": 2388,\n        \"samples\": [\n          13.316667,\n          277.806671,\n          15.433333\n        ],\n        \"semantic_type\": \"\",\n        \"description\": \"\"\n      }\n    },\n    {\n      \"column\": \"Close\",\n      \"properties\": {\n        \"dtype\": \"number\",\n        \"std\": 101.96905609421282,\n        \"min\": 2.194,\n        \"max\": 409.970001,\n        \"num_unique_values\": 2450,\n        \"samples\": [\n          19.349333,\n          16.964666,\n          277.700012\n        ],\n        \"semantic_type\": \"\",\n        \"description\": \"\"\n      }\n    },\n    {\n      \"column\": \"Adj Close\",\n      \"properties\": {\n        \"dtype\": \"number\",\n        \"std\": 101.96905609421282,\n        \"min\": 2.194,\n        \"max\": 409.970001,\n        \"num_unique_values\": 2450,\n        \"samples\": [\n          19.349333,\n          16.964666,\n          277.700012\n        ],\n        \"semantic_type\": \"\",\n        \"description\": \"\"\n      }\n    },\n    {\n      \"column\": \"Volume\",\n      \"properties\": {\n        \"dtype\": \"number\",\n        \"std\": 80781592,\n        \"min\": 6603000,\n        \"max\": 914082000,\n        \"num_unique_values\": 2501,\n        \"samples\": [\n          117033000,\n          118536600,\n          117280500\n        ],\n        \"semantic_type\": \"\",\n        \"description\": \"\"\n      }\n    }\n  ]\n}"
            }
          },
          "metadata": {},
          "execution_count": 26
        }
      ]
    },
    {
      "cell_type": "code",
      "source": [
        "df.dtypes"
      ],
      "metadata": {
        "colab": {
          "base_uri": "https://localhost:8080/"
        },
        "id": "UjWlVl7eO8iz",
        "outputId": "8248719e-829f-4a2b-cbdf-7733f0fb90cd"
      },
      "execution_count": 27,
      "outputs": [
        {
          "output_type": "execute_result",
          "data": {
            "text/plain": [
              "Date          object\n",
              "Open         float64\n",
              "High         float64\n",
              "Low          float64\n",
              "Close        float64\n",
              "Adj Close    float64\n",
              "Volume         int64\n",
              "dtype: object"
            ]
          },
          "metadata": {},
          "execution_count": 27
        }
      ]
    },
    {
      "cell_type": "code",
      "source": [
        "df['Date']=pd.to_datetime(df.Date)\n",
        "df.shape"
      ],
      "metadata": {
        "colab": {
          "base_uri": "https://localhost:8080/"
        },
        "id": "5g_tjEOQPBJz",
        "outputId": "0f667c14-3e9a-4841-9ff4-a20fbb96870f"
      },
      "execution_count": 28,
      "outputs": [
        {
          "output_type": "execute_result",
          "data": {
            "text/plain": [
              "(2518, 7)"
            ]
          },
          "metadata": {},
          "execution_count": 28
        }
      ]
    },
    {
      "cell_type": "code",
      "source": [
        "sns.heatmap(df.corr(),annot=True)"
      ],
      "metadata": {
        "colab": {
          "base_uri": "https://localhost:8080/",
          "height": 503
        },
        "id": "d4RbSXLhSUMz",
        "outputId": "de2701cb-8079-42a8-9cf4-6a7f042a2c09"
      },
      "execution_count": 29,
      "outputs": [
        {
          "output_type": "execute_result",
          "data": {
            "text/plain": [
              "<Axes: >"
            ]
          },
          "metadata": {},
          "execution_count": 29
        },
        {
          "output_type": "display_data",
          "data": {
            "text/plain": [
              "<Figure size 640x480 with 2 Axes>"
            ],
            "image/png": "[encoded data removed]"
          },
          "metadata": {}
        }
      ]
    },
    {
      "cell_type": "code",
      "source": [
        "df.drop('Adj Close',axis=1,inplace=True)\n",
        "df['Volume']=df['Volume'].astype(float)\n",
        "df.dtypes"
      ],
      "metadata": {
        "colab": {
          "base_uri": "https://localhost:8080/"
        },
        "id": "qfKhzjFVPD1r",
        "outputId": "6efa3ee9-02b6-4404-b735-3a05002bebba"
      },
      "execution_count": 30,
      "outputs": [
        {
          "output_type": "execute_result",
          "data": {
            "text/plain": [
              "Date      datetime64[ns]\n",
              "Open             float64\n",
              "High             float64\n",
              "Low              float64\n",
              "Close            float64\n",
              "Volume           float64\n",
              "dtype: object"
            ]
          },
          "metadata": {},
          "execution_count": 30
        }
      ]
    },
    {
      "cell_type": "code",
      "source": [
        "df.isnull().sum()"
      ],
      "metadata": {
        "colab": {
          "base_uri": "https://localhost:8080/"
        },
        "id": "x0He4BMaPUP2",
        "outputId": "83e2c617-6d80-4c76-e6fc-249cc0158569"
      },
      "execution_count": 31,
      "outputs": [
        {
          "output_type": "execute_result",
          "data": {
            "text/plain": [
              "Date      0\n",
              "Open      0\n",
              "High      0\n",
              "Low       0\n",
              "Close     0\n",
              "Volume    0\n",
              "dtype: int64"
            ]
          },
          "metadata": {},
          "execution_count": 31
        }
      ]
    },
    {
      "cell_type": "code",
      "source": [
        "df_new = df[np.isfinite(df).all(1)]"
      ],
      "metadata": {
        "id": "omfuW1LfPXeg"
      },
      "execution_count": 32,
      "outputs": []
    },
    {
      "cell_type": "code",
      "source": [
        "df_new['Open'].plot(figsize=(16,6))"
      ],
      "metadata": {
        "colab": {
          "base_uri": "https://localhost:8080/",
          "height": 401
        },
        "id": "XnhhKyLEPche",
        "outputId": "e558f9f8-dcf6-47a8-bca5-75f46cd89f91"
      },
      "execution_count": 33,
      "outputs": [
        {
          "output_type": "execute_result",
          "data": {
            "text/plain": [
              "<Axes: >"
            ]
          },
          "metadata": {},
          "execution_count": 33
        },
        {
          "output_type": "display_data",
          "data": {
            "text/plain": [
              "<Figure size 1600x600 with 1 Axes>"
            ],
            "image/png": "[encoded data removed]"
          },
          "metadata": {}
        }
      ]
    },
    {
      "cell_type": "code",
      "source": [
        "x=df_new[['Open','High','Low','Volume']]\n",
        "y=df_new['Close']"
      ],
      "metadata": {
        "id": "WVjdUIUQPfYd"
      },
      "execution_count": 34,
      "outputs": []
    },
    {
      "cell_type": "code",
      "source": [
        "from sklearn.model_selection import train_test_split\n",
        "x_train,x_test,y_train,y_test=train_test_split(x,y,test_size=0.25,random_state=0)"
      ],
      "metadata": {
        "id": "ijUp8smdPhQx"
      },
      "execution_count": 35,
      "outputs": []
    },
    {
      "cell_type": "code",
      "source": [
        "from sklearn.linear_model import LinearRegression\n",
        "from sklearn.metrics import  confusion_matrix,accuracy_score\n",
        "regressor=LinearRegression()"
      ],
      "metadata": {
        "id": "rzGk5TvpPsqr"
      },
      "execution_count": 36,
      "outputs": []
    },
    {
      "cell_type": "code",
      "source": [
        "regressor.fit(x_train,y_train)\n",
        "\n",
        "print(regressor.coef_)\n",
        "\n",
        "print(regressor.intercept_)"
      ],
      "metadata": {
        "colab": {
          "base_uri": "https://localhost:8080/"
        },
        "id": "sF4HRbmoQAP8",
        "outputId": "6c34adc2-0c6c-4a6a-d2b7-e7380e9af6d8"
      },
      "execution_count": 37,
      "outputs": [
        {
          "output_type": "stream",
          "name": "stdout",
          "text": [
            "[-6.39829924e-01  9.09434737e-01  7.26712296e-01  3.49712592e-10]\n",
            "-0.012938679024230737\n"
          ]
        }
      ]
    },
    {
      "cell_type": "code",
      "source": [
        "predicted=regressor.predict(x_test)\n",
        "print(predicted)"
      ],
      "metadata": {
        "colab": {
          "base_uri": "https://localhost:8080/"
        },
        "id": "L9FS1hsRQHpm",
        "outputId": "b4d385c5-d289-40f1-e80f-c97ff5ab0903"
      },
      "execution_count": 38,
      "outputs": [
        {
          "output_type": "stream",
          "name": "stdout",
          "text": [
            "[ 15.10250298  22.13099703  13.81224934  13.47071831 350.33720592\n",
            "  14.0265773   15.18462522  67.67019126  18.46705437  12.80897228\n",
            "  13.50864051  15.15220432   2.38080017  16.62198968  13.25682011\n",
            "  13.83627907  22.50096346  17.39658876  21.91589556  24.51839229\n",
            "  16.64284308  28.52052553 274.30709348  20.95224486  14.63653983\n",
            "  14.21415881  15.58880749  17.59547733  23.60813269  18.60497457\n",
            "  13.33646787 293.97836014   2.59431314 237.89355437  19.29228728\n",
            "  16.89203208  14.71440139  20.29320802  16.22323937  25.01275018\n",
            "  13.69776971  15.90338333 406.58913158  17.94240446  16.01685515\n",
            " 170.396686    21.30506434  12.2180555   15.27603217  18.16560782\n",
            " 219.34886264  16.75431854  20.88416234 390.80587131 241.82231141\n",
            "  15.78543436  15.14742775 200.80056022  22.22807651  14.99442572\n",
            " 218.65066269  22.89431552 302.3179919   13.76681919  11.98687871\n",
            "  42.58680665 201.80505043  15.39222384  14.9313856   19.01999632\n",
            "  14.703867    20.9198422  228.10398515   9.45144255  15.99981861\n",
            "  71.71695855 227.92238656  13.37172625  15.25821179   8.01641543\n",
            "  21.63831128  14.2084223   16.5513397  307.87726382  24.17001988\n",
            "  17.37850981  15.75403482  17.32024894  15.54118557  52.50845884\n",
            " 356.02185532 203.59835957 128.64286185 265.18394904  19.77741947\n",
            " 294.52964655  21.44778256  12.31881387 252.11217218  14.05734176\n",
            "  48.51970633 213.90389541  14.63261442  16.38207997 306.0042955\n",
            "  13.48472034  16.46157677   9.46772427  17.25183037  18.60910331\n",
            "   6.88948198 239.84433362  28.93329154  13.19815169  16.50091177\n",
            "  21.55285881 124.10836161  20.65701275 241.53316144  16.77868595\n",
            " 269.99403439  22.34138479  35.88289193  11.94421348  20.27627032\n",
            " 151.34750619  22.76054748  17.61689299   9.39139265 251.47966788\n",
            "   6.11754027  12.698166    32.08338872  14.15252696  15.94065377\n",
            "  38.88837713  17.47298068  14.55499248  11.52705113 306.60789578\n",
            "  16.24399943 290.89703752  21.8080446   24.25804853  20.8550468\n",
            "  16.07029117 321.63562735 199.97660778  17.14374886 143.15810138\n",
            "  12.50340561  22.75124808  22.90240292  20.26012291  15.36172602\n",
            "  14.97737079   2.50552007  22.80340227  14.18740954 266.28255722\n",
            " 220.9542162   17.12753827  17.47334119   2.57455135  12.57650028\n",
            " 360.90005916  16.6902079   12.63051411  12.57617016 273.76240154\n",
            " 294.54810963  14.22740032  12.31462871 336.36761436  22.60054453\n",
            "  16.44819738  23.99422344  23.67918275  19.13556965  14.12868761\n",
            "  17.8227492  210.68309071 143.00736202  22.03746916  16.37366116\n",
            "   8.17705005  17.49719964  14.5099034   18.41591409 350.81930939\n",
            " 300.70757474 347.34465724   2.26244862  15.81793506  13.51504392\n",
            "  23.75272978  14.54321277  16.35915651  13.50290116  24.10979542\n",
            " 147.3066073  227.37772866  16.28838483 188.8376449   14.65322939\n",
            "  22.73361731 288.05165921  22.66177926 226.45722383  16.19344278\n",
            "  14.67757505   9.61862296  17.00475197 215.0164207   23.51689315\n",
            " 142.12035866  16.53804925  23.22293508  20.13926475  21.46613156\n",
            "  13.12350758 262.13748467  15.28946828  12.59830809  15.60787206\n",
            "  17.50106191 309.60157884  16.98943402  17.67465265  91.32513965\n",
            "  34.04766543  21.29780105  14.02095208  62.50522102  13.85757486\n",
            "  35.49858943   2.85542672 107.41564289  13.97106292  15.55659005\n",
            "  55.06793497  14.91964923 287.92691171  15.46900044  15.79529432\n",
            "  23.10193124   2.5182695   22.90827647  14.46604238  17.26377628\n",
            "  24.9258819   19.21561489  14.94049564  21.09240052 306.88205958\n",
            "  16.32654744  23.4182275   14.09673099 227.85706704  15.22205021\n",
            "  14.7918997  363.83270963 240.22857767 347.11300124  18.22565123\n",
            "  15.28337865  16.98523537  21.98165776  21.43521921 129.66902678\n",
            "  22.63622321  16.12224158  14.8998674   12.76385305 234.03600715\n",
            "  14.67225798  15.16839861 196.85526228 259.3953776   21.65726555\n",
            " 232.49370864  17.3903443   12.77701058  23.21561582  17.09762087\n",
            "  18.69037644  14.42780883  14.76287506   2.98119562  20.33250801\n",
            "   8.60365157  14.50596731 229.00076415   2.39239604 219.83997177\n",
            " 244.31747319 249.40876478 150.08173327  11.02755496   2.36662019\n",
            " 269.47845992  54.2998665   22.30510922  47.86501541  15.09184048\n",
            "  21.50975827 100.88371798 183.06181933  14.980465    51.87473209\n",
            "  17.49184048  21.21868774 337.58555721  21.82769559  14.56658058\n",
            "  21.79771367 277.48819257 215.38181934  10.00272412   2.54184373\n",
            " 227.51571832  15.24541354  34.07560128  22.01087959  12.4680785\n",
            "   9.62504447   6.09519361  13.8325673   19.89503226 182.01209943\n",
            "  16.0910169   15.29714319 210.82596424  20.58994797  13.27441822\n",
            "  14.97964306  49.40488185  13.90246484 217.07495747   6.78393707\n",
            " 194.66478893  10.46551998 216.04441367  18.52427205  20.02329218\n",
            "  21.46106627  16.10975887  19.90722749   7.80778965 255.79361821\n",
            "  54.34381166   2.25987188  18.34775763 178.50146059 367.70236859\n",
            " 367.32485384  13.96874659  50.32075146 286.6080913  184.82919259\n",
            "  66.49859301 241.76795396  15.06738707  32.73648806  13.17634557\n",
            "  23.3314802   21.01124815 229.78266337 141.65869429  13.99894277\n",
            "  10.70745531 134.73655554  20.8838304   18.46834233 271.4565697\n",
            "  52.71371935 221.72016704 260.23187954  19.88229996 245.53772439\n",
            "  15.57444153 221.15102834  14.92304411 101.13631233 223.56875043\n",
            "  20.3597762   15.75412813   9.59779261   2.32031507  15.54568487\n",
            "  23.13898341  22.7976591   20.45583942   8.91707911  13.96596638\n",
            " 237.10319892  14.85288048  67.22755355  13.00535677  20.19770754\n",
            "   2.28876657   9.97444144  23.14722952  14.87232712  15.50776117\n",
            "  18.98398042  14.43774782   7.91674415  16.66027704 231.53232748\n",
            "  56.46558218  18.0106637   61.66143105 186.32528016 138.03587461\n",
            " 287.20572236  14.97056253  17.22682558  16.33364393  15.58192128\n",
            "  15.81598859  20.23387395  17.24673399  53.00649497  14.39246136\n",
            " 396.57341353   7.99210484  25.04649214  13.45643324  11.8263306\n",
            "  16.69800347 153.33904499  14.8758325  224.85778892   9.13500193\n",
            "  64.18773708  16.68305226   2.5579264   21.32537405  93.76881193\n",
            "  13.49663662 265.37760218  20.00461362  18.40447439  13.74453525\n",
            "  17.08426768  11.88749066 214.68007222  12.18346493  22.4662911\n",
            "  13.59844101 283.384642   294.10787312  23.05355107   9.53265067\n",
            "   6.60051229  14.35095426  22.40866506 142.30997388 301.59421267\n",
            "   2.32318691  14.95041732 115.87265352   3.49406111  13.7706955\n",
            "  12.23219041  15.35014351  21.77655619 228.77420128  51.48204282\n",
            "  14.02074548  75.04266333  16.53115034 260.30297263  18.00375374\n",
            "  54.73885395  21.00872227  15.62153699  13.40825146  22.31933903\n",
            "  20.77137841 294.42053552  13.25609869  14.52057173 370.54025234\n",
            "  15.45011927  15.24901124 306.19573413 138.10369625 267.34589707\n",
            "  13.44022247  14.22560398   2.3403698   18.4587453   21.00155411\n",
            "  20.9230952   54.55367615 205.0457028   17.1038814   29.9838827\n",
            "  11.04797614  12.17982093 235.16078194  15.23851085  13.2284039\n",
            "  13.62583736  13.97517317  11.75805503  12.03554189  16.88641753\n",
            "  17.37425994  65.88965549  13.17469341  27.97363823  13.79873359\n",
            " 286.71382255 234.79448396   2.602301    12.7249441  305.23185907\n",
            "  23.1350264  312.84208714  13.24833582  13.12902171  17.18258775\n",
            " 302.83537072 279.85893529  14.10862191 285.1683446    2.2884292\n",
            " 147.34495837  54.28242263  25.09432585  11.25671809  15.21599594\n",
            "  20.0381218   16.69588845 234.60170249 148.69239241  13.54904494\n",
            " 260.90741919 212.66965088  16.2150726   15.41644356 183.06906753\n",
            " 218.39580169  11.48853557   8.58820129  16.8420818   21.52822129\n",
            " 135.71785262  20.40495562  15.64809957  20.4168817   22.90060277\n",
            "  23.18305445  13.95689421  13.89982276  20.6103423  375.53647852\n",
            "  14.13858848   2.29375024  15.47443742  16.55489175  18.11388315\n",
            "  15.74479576 201.73728836  16.93416906 225.64741145   9.53783309\n",
            " 199.4155496    8.36471285  14.02607827 274.48310435 214.76205666\n",
            "  21.39506741   2.49881013  17.22122668  12.16602125  22.72073991\n",
            "  12.13709307 125.56287902  23.64832371  16.66135046  13.41552544\n",
            "   2.60421192 230.96553985  12.19324208  10.91069625  15.81539302\n",
            "  23.17604227 263.03291284  14.30142898  23.85797399 234.27649289\n",
            " 361.77176363  13.59751681  16.71204399  14.38655951  22.79447368\n",
            "  35.12695394 194.20554855   9.77199718  17.62794722  15.76253571\n",
            "  54.43591384   2.54460732 218.72719591  15.26721344  29.94633898\n",
            "  20.59065702  13.38474105  16.52097826  14.68025241  16.13655142\n",
            "  20.42751335  14.22995128  22.21910363  13.43743033 248.9391016\n",
            "  20.44906729  13.52639446  18.25754474 220.1916097   15.25095203\n",
            "  23.51957885  20.48826431  23.48573931  15.88385462 224.0984641 ]\n"
          ]
        }
      ]
    },
    {
      "cell_type": "code",
      "source": [
        "dfr=pd.DataFrame({'Actual':y_test,'Predicted':predicted})\n",
        "print(dfr)"
      ],
      "metadata": {
        "colab": {
          "base_uri": "https://localhost:8080/"
        },
        "id": "xX3_BFzUQKoU",
        "outputId": "a2176fa9-a4de-4da0-9998-94a02df0961e"
      },
      "execution_count": 39,
      "outputs": [
        {
          "output_type": "stream",
          "name": "stdout",
          "text": [
            "          Actual   Predicted\n",
            "840    14.837333   15.102503\n",
            "1264   22.246000   22.130997\n",
            "575    13.780000   13.812249\n",
            "944    13.602000   13.470718\n",
            "2275  343.853333  350.337206\n",
            "...          ...         ...\n",
            "1295   23.469999   23.519579\n",
            "1101   20.407333   20.488264\n",
            "1411   23.496668   23.485739\n",
            "1697   16.058001   15.883855\n",
            "2390  224.473328  224.098464\n",
            "\n",
            "[630 rows x 2 columns]\n"
          ]
        }
      ]
    },
    {
      "cell_type": "code",
      "source": [
        "dfr.sort_values(\"Actual\",ascending=False)\n",
        "dfr.sort_values(\"Predicted\",ascending=False)"
      ],
      "metadata": {
        "colab": {
          "base_uri": "https://localhost:8080/",
          "height": 424
        },
        "id": "NL1Fl0AjQZNF",
        "outputId": "ab198d28-2904-46e2-f455-ac660bb01bee"
      },
      "execution_count": 40,
      "outputs": [
        {
          "output_type": "execute_result",
          "data": {
            "text/plain": [
              "          Actual   Predicted\n",
              "2228  407.363342  406.589132\n",
              "2226  404.619995  396.573414\n",
              "2239  385.623322  390.805871\n",
              "2238  379.019989  375.536479\n",
              "2331  363.753326  370.540252\n",
              "...          ...         ...\n",
              "11      2.292000    2.293750\n",
              "37      2.295333    2.288767\n",
              "40      2.310000    2.288429\n",
              "9       2.260000    2.262449\n",
              "10      2.273333    2.259872\n",
              "\n",
              "[630 rows x 2 columns]"
            ],
            "text/html": [
              "\n",
              "  <div id=\"df-e604e35b-33f0-430e-af9f-23916ec5f274\" class=\"colab-df-container\">\n",
              "    <div>\n",
              "<style scoped>\n",
              "    .dataframe tbody tr th:only-of-type {\n",
              "        vertical-align: middle;\n",
              "    }\n",
              "\n",
              "    .dataframe tbody tr th {\n",
              "        vertical-align: top;\n",
              "    }\n",
              "\n",
              "    .dataframe thead th {\n",
              "        text-align: right;\n",
              "    }\n",
              "</style>\n",
              "<table border=\"1\" class=\"dataframe\">\n",
              "  <thead>\n",
              "    <tr style=\"text-align: right;\">\n",
              "      <th></th>\n",
              "      <th>Actual</th>\n",
              "      <th>Predicted</th>\n",
              "    </tr>\n",
              "  </thead>\n",
              "  <tbody>\n",
              "    <tr>\n",
              "      <th>2228</th>\n",
              "      <td>407.363342</td>\n",
              "      <td>406.589132</td>\n",
              "    </tr>\n",
              "    <tr>\n",
              "      <th>2226</th>\n",
              "      <td>404.619995</td>\n",
              "      <td>396.573414</td>\n",
              "    </tr>\n",
              "    <tr>\n",
              "      <th>2239</th>\n",
              "      <td>385.623322</td>\n",
              "      <td>390.805871</td>\n",
              "    </tr>\n",
              "    <tr>\n",
              "      <th>2238</th>\n",
              "      <td>379.019989</td>\n",
              "      <td>375.536479</td>\n",
              "    </tr>\n",
              "    <tr>\n",
              "      <th>2331</th>\n",
              "      <td>363.753326</td>\n",
              "      <td>370.540252</td>\n",
              "    </tr>\n",
              "    <tr>\n",
              "      <th>...</th>\n",
              "      <td>...</td>\n",
              "      <td>...</td>\n",
              "    </tr>\n",
              "    <tr>\n",
              "      <th>11</th>\n",
              "      <td>2.292000</td>\n",
              "      <td>2.293750</td>\n",
              "    </tr>\n",
              "    <tr>\n",
              "      <th>37</th>\n",
              "      <td>2.295333</td>\n",
              "      <td>2.288767</td>\n",
              "    </tr>\n",
              "    <tr>\n",
              "      <th>40</th>\n",
              "      <td>2.310000</td>\n",
              "      <td>2.288429</td>\n",
              "    </tr>\n",
              "    <tr>\n",
              "      <th>9</th>\n",
              "      <td>2.260000</td>\n",
              "      <td>2.262449</td>\n",
              "    </tr>\n",
              "    <tr>\n",
              "      <th>10</th>\n",
              "      <td>2.273333</td>\n",
              "      <td>2.259872</td>\n",
              "    </tr>\n",
              "  </tbody>\n",
              "</table>\n",
              "<p>630 rows × 2 columns</p>\n",
              "</div>\n",
              "    <div class=\"colab-df-buttons\">\n",
              "\n",
              "  <div class=\"colab-df-container\">\n",
              "    <button class=\"colab-df-convert\" onclick=\"convertToInteractive('df-e604e35b-33f0-430e-af9f-23916ec5f274')\"\n",
              "            title=\"Convert this dataframe to an interactive table.\"\n",
              "            style=\"display:none;\">\n",
              "\n",
              "  <svg xmlns=\"http://www.w3.org/2000/svg\" height=\"24px\" viewBox=\"0 -960 960 960\">\n",
              "    <path d=\"M120-120v-720h720v720H120Zm60-500h600v-160H180v160Zm220 220h160v-160H400v160Zm0 220h160v-160H400v160ZM180-400h160v-160H180v160Zm440 0h160v-160H620v160ZM180-180h160v-160H180v160Zm440 0h160v-160H620v160Z\"/>\n",
              "  </svg>\n",
              "    </button>\n",
              "\n",
              "  <style>\n",
              "    .colab-df-container {\n",
              "      display:flex;\n",
              "      gap: 12px;\n",
              "    }\n",
              "\n",
              "    .colab-df-convert {\n",
              "      background-color: #E8F0FE;\n",
              "      border: none;\n",
              "      border-radius: 50%;\n",
              "      cursor: pointer;\n",
              "      display: none;\n",
              "      fill: #1967D2;\n",
              "      height: 32px;\n",
              "      padding: 0 0 0 0;\n",
              "      width: 32px;\n",
              "    }\n",
              "\n",
              "    .colab-df-convert:hover {\n",
              "      background-color: #E2EBFA;\n",
              "      box-shadow: 0px 1px 2px rgba(60, 64, 67, 0.3), 0px 1px 3px 1px rgba(60, 64, 67, 0.15);\n",
              "      fill: #174EA6;\n",
              "    }\n",
              "\n",
              "    .colab-df-buttons div {\n",
              "      margin-bottom: 4px;\n",
              "    }\n",
              "\n",
              "    [theme=dark] .colab-df-convert {\n",
              "      background-color: #3B4455;\n",
              "      fill: #D2E3FC;\n",
              "    }\n",
              "\n",
              "    [theme=dark] .colab-df-convert:hover {\n",
              "      background-color: #434B5C;\n",
              "      box-shadow: 0px 1px 3px 1px rgba(0, 0, 0, 0.15);\n",
              "      filter: drop-shadow(0px 1px 2px rgba(0, 0, 0, 0.3));\n",
              "      fill: #FFFFFF;\n",
              "    }\n",
              "  </style>\n",
              "\n",
              "    <script>\n",
              "      const buttonEl =\n",
              "        document.querySelector('#df-e604e35b-33f0-430e-af9f-23916ec5f274 button.colab-df-convert');\n",
              "      buttonEl.style.display =\n",
              "        google.colab.kernel.accessAllowed ? 'block' : 'none';\n",
              "\n",
              "      async function convertToInteractive(key) {\n",
              "        const element = document.querySelector('#df-e604e35b-33f0-430e-af9f-23916ec5f274');\n",
              "        const dataTable =\n",
              "          await google.colab.kernel.invokeFunction('convertToInteractive',\n",
              "                                                    [key], {});\n",
              "        if (!dataTable) return;\n",
              "\n",
              "        const docLinkHtml = 'Like what you see? Visit the ' +\n",
              "          '<a target=\"_blank\" href=https://colab.research.google.com/notebooks/data_table.ipynb>data table notebook</a>'\n",
              "          + ' to learn more about interactive tables.';\n",
              "        element.innerHTML = '';\n",
              "        dataTable['output_type'] = 'display_data';\n",
              "        await google.colab.output.renderOutput(dataTable, element);\n",
              "        const docLink = document.createElement('div');\n",
              "        docLink.innerHTML = docLinkHtml;\n",
              "        element.appendChild(docLink);\n",
              "      }\n",
              "    </script>\n",
              "  </div>\n",
              "\n",
              "\n",
              "<div id=\"df-c0ba173c-2a31-4c8b-90e0-a5861a45038c\">\n",
              "  <button class=\"colab-df-quickchart\" onclick=\"quickchart('df-c0ba173c-2a31-4c8b-90e0-a5861a45038c')\"\n",
              "            title=\"Suggest charts\"\n",
              "            style=\"display:none;\">\n",
              "\n",
              "<svg xmlns=\"http://www.w3.org/2000/svg\" height=\"24px\"viewBox=\"0 0 24 24\"\n",
              "     width=\"24px\">\n",
              "    <g>\n",
              "        <path d=\"M19 3H5c-1.1 0-2 .9-2 2v14c0 1.1.9 2 2 2h14c1.1 0 2-.9 2-2V5c0-1.1-.9-2-2-2zM9 17H7v-7h2v7zm4 0h-2V7h2v10zm4 0h-2v-4h2v4z\"/>\n",
              "    </g>\n",
              "</svg>\n",
              "  </button>\n",
              "\n",
              "<style>\n",
              "  .colab-df-quickchart {\n",
              "      --bg-color: #E8F0FE;\n",
              "      --fill-color: #1967D2;\n",
              "      --hover-bg-color: #E2EBFA;\n",
              "      --hover-fill-color: #174EA6;\n",
              "      --disabled-fill-color: #AAA;\n",
              "      --disabled-bg-color: #DDD;\n",
              "  }\n",
              "\n",
              "  [theme=dark] .colab-df-quickchart {\n",
              "      --bg-color: #3B4455;\n",
              "      --fill-color: #D2E3FC;\n",
              "      --hover-bg-color: #434B5C;\n",
              "      --hover-fill-color: #FFFFFF;\n",
              "      --disabled-bg-color: #3B4455;\n",
              "      --disabled-fill-color: #666;\n",
              "  }\n",
              "\n",
              "  .colab-df-quickchart {\n",
              "    background-color: var(--bg-color);\n",
              "    border: none;\n",
              "    border-radius: 50%;\n",
              "    cursor: pointer;\n",
              "    display: none;\n",
              "    fill: var(--fill-color);\n",
              "    height: 32px;\n",
              "    padding: 0;\n",
              "    width: 32px;\n",
              "  }\n",
              "\n",
              "  .colab-df-quickchart:hover {\n",
              "    background-color: var(--hover-bg-color);\n",
              "    box-shadow: 0 1px 2px rgba(60, 64, 67, 0.3), 0 1px 3px 1px rgba(60, 64, 67, 0.15);\n",
              "    fill: var(--button-hover-fill-color);\n",
              "  }\n",
              "\n",
              "  .colab-df-quickchart-complete:disabled,\n",
              "  .colab-df-quickchart-complete:disabled:hover {\n",
              "    background-color: var(--disabled-bg-color);\n",
              "    fill: var(--disabled-fill-color);\n",
              "    box-shadow: none;\n",
              "  }\n",
              "\n",
              "  .colab-df-spinner {\n",
              "    border: 2px solid var(--fill-color);\n",
              "    border-color: transparent;\n",
              "    border-bottom-color: var(--fill-color);\n",
              "    animation:\n",
              "      spin 1s steps(1) infinite;\n",
              "  }\n",
              "\n",
              "  @keyframes spin {\n",
              "    0% {\n",
              "      border-color: transparent;\n",
              "      border-bottom-color: var(--fill-color);\n",
              "      border-left-color: var(--fill-color);\n",
              "    }\n",
              "    20% {\n",
              "      border-color: transparent;\n",
              "      border-left-color: var(--fill-color);\n",
              "      border-top-color: var(--fill-color);\n",
              "    }\n",
              "    30% {\n",
              "      border-color: transparent;\n",
              "      border-left-color: var(--fill-color);\n",
              "      border-top-color: var(--fill-color);\n",
              "      border-right-color: var(--fill-color);\n",
              "    }\n",
              "    40% {\n",
              "      border-color: transparent;\n",
              "      border-right-color: var(--fill-color);\n",
              "      border-top-color: var(--fill-color);\n",
              "    }\n",
              "    60% {\n",
              "      border-color: transparent;\n",
              "      border-right-color: var(--fill-color);\n",
              "    }\n",
              "    80% {\n",
              "      border-color: transparent;\n",
              "      border-right-color: var(--fill-color);\n",
              "      border-bottom-color: var(--fill-color);\n",
              "    }\n",
              "    90% {\n",
              "      border-color: transparent;\n",
              "      border-bottom-color: var(--fill-color);\n",
              "    }\n",
              "  }\n",
              "</style>\n",
              "\n",
              "  <script>\n",
              "    async function quickchart(key) {\n",
              "      const quickchartButtonEl =\n",
              "        document.querySelector('#' + key + ' button');\n",
              "      quickchartButtonEl.disabled = true;  // To prevent multiple clicks.\n",
              "      quickchartButtonEl.classList.add('colab-df-spinner');\n",
              "      try {\n",
              "        const charts = await google.colab.kernel.invokeFunction(\n",
              "            'suggestCharts', [key], {});\n",
              "      } catch (error) {\n",
              "        console.error('Error during call to suggestCharts:', error);\n",
              "      }\n",
              "      quickchartButtonEl.classList.remove('colab-df-spinner');\n",
              "      quickchartButtonEl.classList.add('colab-df-quickchart-complete');\n",
              "    }\n",
              "    (() => {\n",
              "      let quickchartButtonEl =\n",
              "        document.querySelector('#df-c0ba173c-2a31-4c8b-90e0-a5861a45038c button');\n",
              "      quickchartButtonEl.style.display =\n",
              "        google.colab.kernel.accessAllowed ? 'block' : 'none';\n",
              "    })();\n",
              "  </script>\n",
              "</div>\n",
              "\n",
              "    </div>\n",
              "  </div>\n"
            ],
            "application/vnd.google.colaboratory.intrinsic+json": {
              "type": "dataframe",
              "summary": "{\n  \"name\": \"dfr\",\n  \"rows\": 630,\n  \"fields\": [\n    {\n      \"column\": \"Actual\",\n      \"properties\": {\n        \"dtype\": \"number\",\n        \"std\": 102.3095400460365,\n        \"min\": 2.26,\n        \"max\": 407.363342,\n        \"num_unique_values\": 627,\n        \"samples\": [\n          9.646667,\n          8.66,\n          12.626667\n        ],\n        \"semantic_type\": \"\",\n        \"description\": \"\"\n      }\n    },\n    {\n      \"column\": \"Predicted\",\n      \"properties\": {\n        \"dtype\": \"number\",\n        \"std\": 102.27221789560289,\n        \"min\": 2.2598718843273495,\n        \"max\": 406.58913158114547,\n        \"num_unique_values\": 630,\n        \"samples\": [\n          14.020952078643337,\n          22.31933903372251,\n          12.598308092017607\n        ],\n        \"semantic_type\": \"\",\n        \"description\": \"\"\n      }\n    }\n  ]\n}"
            }
          },
          "metadata": {},
          "execution_count": 40
        }
      ]
    },
    {
      "cell_type": "code",
      "source": [
        "lst=[i for i in range(0,len(dfr.Actual))]\n",
        "ak=dfr.head(len(dfr.Actual))\n",
        "aka=ak.sort_values(\"Actual\")"
      ],
      "metadata": {
        "id": "_a-awWruQb0m"
      },
      "execution_count": 41,
      "outputs": []
    },
    {
      "cell_type": "code",
      "source": [
        "plt.plot(lst,aka)\n",
        "plt.xlabel(\"Time\")\n",
        "plt.ylabel(\"Stock Closing Price\")\n",
        "plt.title(\"Actual Closing Price\")\n",
        "plt.show()"
      ],
      "metadata": {
        "colab": {
          "base_uri": "https://localhost:8080/",
          "height": 472
        },
        "id": "ikX6QhqsQmpX",
        "outputId": "189739ab-c61d-4237-c10c-ab1901f5115d"
      },
      "execution_count": 42,
      "outputs": [
        {
          "output_type": "display_data",
          "data": {
            "text/plain": [
              "<Figure size 640x480 with 1 Axes>"
            ],
            "image/png": "[encoded data removed]"
          },
          "metadata": {}
        }
      ]
    },
    {
      "cell_type": "code",
      "source": [
        "lst=[i for i in range(0,len(dfr.Actual))]\n",
        "aak=ak.sort_values(\"Predicted\")\n",
        "plt.plot(lst,aak,color=\"Yellow\")\n",
        "plt.xlabel(\"Time\")\n",
        "plt.ylabel(\"Stock Closing Price\")\n",
        "plt.title(\"Predicted Closing Price\")\n",
        "plt.show()"
      ],
      "metadata": {
        "colab": {
          "base_uri": "https://localhost:8080/",
          "height": 472
        },
        "id": "ryWQjV0hQpsV",
        "outputId": "73ff2c5b-ff9f-4fc0-cd48-202661afd549"
      },
      "execution_count": 43,
      "outputs": [
        {
          "output_type": "display_data",
          "data": {
            "text/plain": [
              "<Figure size 640x480 with 1 Axes>"
            ],
            "image/png": "[encoded data removed]"
          },
          "metadata": {}
        }
      ]
    },
    {
      "cell_type": "code",
      "source": [
        "regressor.score(x_test,y_test)"
      ],
      "metadata": {
        "colab": {
          "base_uri": "https://localhost:8080/"
        },
        "id": "1zFzRPyRQuV6",
        "outputId": "b8ff0b66-32b2-4a03-e6d6-85c60dbcc834"
      },
      "execution_count": 44,
      "outputs": [
        {
          "output_type": "execute_result",
          "data": {
            "text/plain": [
              "0.9996593179690488"
            ]
          },
          "metadata": {},
          "execution_count": 44
        }
      ]
    },
    {
      "cell_type": "code",
      "source": [],
      "metadata": {
        "id": "b4Ica9jwQxO-"
      },
      "execution_count": 44,
      "outputs": []
    }
  ]
}